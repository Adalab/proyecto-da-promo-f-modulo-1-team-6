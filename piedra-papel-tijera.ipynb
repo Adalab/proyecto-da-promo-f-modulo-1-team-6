{
 "cells": [
  {
   "cell_type": "markdown",
   "metadata": {},
   "source": [
    "# PIEDRA, PAPEL Y TIJERA\n",
    "----\n",
    "\n",
    "- Reglas del Juego \"Piedra, Papel y Tijera\":\n",
    "\n",
    "    - Dos jugadores eligen una de las tres opciones: \"Piedra\", \"Papel\" o \"Tijera\".\n",
    "\n",
    "    - Las reglas para determinar al ganador son:\n",
    "        \n",
    "        - Piedra vence a Tijera.\n",
    "\n",
    "        - Tijera vence a Papel.\n",
    "\n",
    "        - Papel vence a Piedra.\n",
    "\n",
    "        - El jugador que gana una ronda obtiene un punto.\n",
    "        \n",
    "        - El juego continúa hasta que un jugador haya acumulado 3 puntos, convirtiéndose en el ganador.\n",
    "\n",
    "\n",
    "- Pistas para las alumnas:\n",
    "\n",
    "    1. Comienza por definir el número de puntos objetivo que se deben alcanzar para ganar el juego.\n",
    "\n",
    "    2. Implementa una función que obtenga la elección del jugador y valide que sea una de las opciones válidas (\"Piedra\", \"Papel\" o \"Tijera\").\n",
    "\n",
    "    3. Utiliza un bucle `while` para llevar un registro de los puntos de cada jugador y continuar el juego hasta que se alcance el número de puntos objetivo.\n",
    "\n",
    "    4. Genera una elección aleatoria para el segundo jugador (la computadora) utilizando el módulo `random`.\n",
    "\n",
    "    5. Determina al ganador de cada ronda y actualiza los puntos correspondientes.\n",
    "\n",
    "    6. Verifica si algún jugador ha alcanzado el número de puntos objetivo y finalicen el juego cuando eso suceda."
   ]
  },
  {
   "cell_type": "markdown",
   "metadata": {},
   "source": [
    "__________"
   ]
  },
  {
   "cell_type": "markdown",
   "metadata": {},
   "source": [
    "## EXPLICACIÓN JUEGO"
   ]
  },
  {
   "cell_type": "code",
   "execution_count": null,
   "metadata": {},
   "outputs": [],
   "source": [
    "import random"
   ]
  },
  {
   "cell_type": "code",
   "execution_count": null,
   "metadata": {},
   "outputs": [],
   "source": [
    "jugador1 = input(\"Nombre del jugador 1\")\n",
    "print(\"El jugador 1 es\", jugador1)\n",
    "\n",
    "jugador2 = input(\"Nombre del jugador 2\")\n",
    "print(\"El jugador 2 es\", jugador2)"
   ]
  },
  {
   "cell_type": "code",
   "execution_count": null,
   "metadata": {},
   "outputs": [],
   "source": [
    "opciones = [\"piedra\", \"papel\", \"tijera\"] \n",
    "\n",
    "for opcion in opciones:\n",
    "    print(f\"elige {opcion}\")"
   ]
  },
  {
   "cell_type": "code",
   "execution_count": null,
   "metadata": {},
   "outputs": [],
   "source": [
    "eligejugador1 = random.sample(opciones, 1)\n",
    "print(f\"{jugador1} elige\", eligejugador1)\n"
   ]
  },
  {
   "cell_type": "markdown",
   "metadata": {},
   "source": [
    "**TAMARA:** ANOTO AQUÍ DEBAJO LO QUE SE ME HA OCURRIDO SIN BORRAR LO ANTERIOR PARA QUE LO VEAMOS TODO Y EL SÁBADO LIMPIAMOS EL ARCHIVO"
   ]
  },
  {
   "cell_type": "code",
   "execution_count": 2,
   "metadata": {},
   "outputs": [
    {
     "name": "stdout",
     "output_type": "stream",
     "text": [
      "Hola, Tam\n",
      "\n",
      "!Vamos allá¡\n"
     ]
    }
   ],
   "source": [
    "opciones = [\"piedra\", \"papel\", \"tijera\"]\n",
    "\n",
    "#Elimino el jugador2 porque en las indicaciones solo nos pide un jugador y la máquina\n",
    "\n",
    "# inicio del juego\n",
    "\n",
    "jugador = input(\"Nombre del jugador\")\n",
    "print(\"Hola,\", jugador)\n",
    "\n",
    "juego = input(\"¿Preparada para jugar? S/N\").upper()\n",
    "\n",
    "if  juego == \"S\":\n",
    "    print(\"\\n!Vamos allá¡\")\n",
    "\n",
    "elif  juego == \"N\":\n",
    "    print(\"\\n!Hasta pronto¡\")\n",
    "\n"
   ]
  },
  {
   "cell_type": "code",
   "execution_count": 3,
   "metadata": {},
   "outputs": [],
   "source": [
    "import random"
   ]
  },
  {
   "cell_type": "code",
   "execution_count": 8,
   "metadata": {},
   "outputs": [
    {
     "ename": "IndentationError",
     "evalue": "unindent does not match any outer indentation level (<tokenize>, line 14)",
     "output_type": "error",
     "traceback": [
      "\u001b[0;36m  File \u001b[0;32m\"<tokenize>\"\u001b[0;36m, line \u001b[0;32m14\u001b[0m\n\u001b[0;31m    if eligejugador == \"piedra\" and ordenador == \"tijera\" :\u001b[0m\n\u001b[0m    ^\u001b[0m\n\u001b[0;31mIndentationError\u001b[0m\u001b[0;31m:\u001b[0m unindent does not match any outer indentation level\n"
     ]
    }
   ],
   "source": [
    "while puntuacionjugador <3:\n",
    "\n",
    "    eligejugador = input(\"Elige piedra, papel o tijeras.\")\n",
    "    print(jugador, \"elige\", eligejugador)\n",
    "        \n",
    "    ordenador = random.sample(opciones, 1)[0]\n",
    "    print(f\"El ordenador elige\", ordenador)\n",
    "\n",
    "    puntuacionjugador = 0\n",
    "    \n",
    "    if eligejugador == ordenador:\n",
    "        print(\"!Empate¡ Prueba otra vez.\\n\")\n",
    "\n",
    "    if eligejugador == \"piedra\" and ordenador == \"tijera\" :\n",
    "        print(f\"!Genial¡ {eligejugador} gana a {ordenador}\\n\")\n",
    "        puntuacionjugador += 1\n",
    "\n",
    "    if eligejugador == \"tijera\" and ordenador == \"papel\" :\n",
    "        print(f\"!Genial¡ {eligejugador} gana a {ordenador}\\n\")\n",
    "        puntuacionjugador += 1\n",
    "\n",
    "    if eligejugador == \"papel\" and ordenador == \"piedra\" :\n",
    "        print(f\"!Genial¡ {eligejugador} gana a {ordenador}\\n\")\n",
    "        puntuacionjugador += 1\n",
    "\n",
    "    if eligejugador == \"papel\" and ordenador == \"tijera\" :\n",
    "        print(f\"!Vaya¡ {ordenador} gana a {eligejugador}\\n\")\n",
    "\n",
    "    if eligejugador == \"piedra\" and ordenador == \"papel\" :\n",
    "        print(f\"!Vaya¡ {ordenador} gana a {eligejugador}\\n\")\n",
    "\n",
    "    if eligejugador == \"tijera\" and ordenador == \"piedra\" :\n",
    "        print(f\"!Vaya¡ {ordenador} gana a {eligejugador}\\n\")\n",
    "\n",
    "\n",
    "while puntuacionjugador <= 3:\n",
    "    print(f\"La puntuación es {puntuacionjugador}\\n\")\n",
    "    puntuacionjugador += 1\n",
    "\n",
    "    if puntuacionjugador == 3:\n",
    "        print(\"!Enhorabuena¡,\", jugador, \"Has ganado.\")\n",
    "\n",
    "\n",
    "# final del juego\n",
    "\n",
    "otravez = input(\"¿Quieres jugar otra vez? S/N\").upper()\n",
    "\n",
    "if  otravez == \"S\":\n",
    "    print(\"\\n!Vamos allá¡\")\n",
    "\n",
    "elif  otravez == \"N\":\n",
    "    print(\"\\n!Hasta pronto¡\")"
   ]
  },
  {
   "cell_type": "code",
   "execution_count": 24,
   "metadata": {},
   "outputs": [
    {
     "name": "stdout",
     "output_type": "stream",
     "text": [
      "La puntuación es 0\n",
      "\n",
      "La puntuación es 1\n",
      "\n",
      "La puntuación es 2\n",
      "\n",
      "!Enhorabuena¡ Has ganado.\n",
      "La puntuación es 3\n",
      "\n"
     ]
    }
   ],
   "source": [
    "puntuacion = 0\n",
    "\n",
    "while puntuacion <= 3:\n",
    "    print(f\"La puntuación es {puntuacion}\\n\")\n",
    "    puntuacion += 1\n",
    "\n",
    "    if puntuacion == 3:\n",
    "        print(\"!Enhorabuena¡ Has ganado.\")"
   ]
  },
  {
   "cell_type": "code",
   "execution_count": null,
   "metadata": {},
   "outputs": [],
   "source": [
    "# final del juego\n",
    "\n",
    "otravez = input(\"¿Quieres jugar otra vez? S/N\").upper()\n",
    "\n",
    "if  otravez == \"S\":\n",
    "    print(\"\\n!Vamos allá¡\")\n",
    "\n",
    "elif  otravez == \"N\":\n",
    "    print(\"\\n!Hasta pronto¡\")"
   ]
  }
 ],
 "metadata": {
  "kernelspec": {
   "display_name": "base",
   "language": "python",
   "name": "python3"
  },
  "language_info": {
   "codemirror_mode": {
    "name": "ipython",
    "version": 3
   },
   "file_extension": ".py",
   "mimetype": "text/x-python",
   "name": "python",
   "nbconvert_exporter": "python",
   "pygments_lexer": "ipython3",
   "version": "3.9.7"
  }
 },
 "nbformat": 4,
 "nbformat_minor": 2
}
