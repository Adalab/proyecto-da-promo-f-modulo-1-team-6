{
 "cells": [
  {
   "cell_type": "markdown",
   "metadata": {},
   "source": [
    "# PIEDRA, PAPEL Y TIJERA\n",
    "----\n",
    "\n",
    "- Reglas del Juego \"Piedra, Papel y Tijera\":\n",
    "\n",
    "    - Dos jugadores eligen una de las tres opciones: \"Piedra\", \"Papel\" o \"Tijera\".\n",
    "\n",
    "    - Las reglas para determinar al ganador son:\n",
    "        \n",
    "        - Piedra vence a Tijera.\n",
    "\n",
    "        - Tijera vence a Papel.\n",
    "\n",
    "        - Papel vence a Piedra.\n",
    "\n",
    "        - El jugador que gana una ronda obtiene un punto.\n",
    "        \n",
    "        - El juego continúa hasta que un jugador haya acumulado 3 puntos, convirtiéndose en el ganador.\n",
    "\n",
    "\n",
    "- Pistas para las alumnas:\n",
    "\n",
    "    1. Comienza por definir el número de puntos objetivo que se deben alcanzar para ganar el juego.\n",
    "\n",
    "    2. Implementa una función que obtenga la elección del jugador y valide que sea una de las opciones válidas (\"Piedra\", \"Papel\" o \"Tijera\").\n",
    "\n",
    "    3. Utiliza un bucle `while` para llevar un registro de los puntos de cada jugador y continuar el juego hasta que se alcance el número de puntos objetivo.\n",
    "\n",
    "    4. Genera una elección aleatoria para el segundo jugador (la computadora) utilizando el módulo `random`.\n",
    "\n",
    "    5. Determina al ganador de cada ronda y actualiza los puntos correspondientes.\n",
    "\n",
    "    6. Verifica si algún jugador ha alcanzado el número de puntos objetivo y finalicen el juego cuando eso suceda."
   ]
  },
  {
   "cell_type": "markdown",
   "metadata": {},
   "source": [
    "__________"
   ]
  },
  {
   "cell_type": "markdown",
   "metadata": {},
   "source": [
    "## EXPLICACIÓN JUEGO"
   ]
  },
  {
   "cell_type": "code",
   "execution_count": null,
   "metadata": {},
   "outputs": [],
   "source": [
    "import random"
   ]
  },
  {
   "cell_type": "code",
   "execution_count": null,
   "metadata": {},
   "outputs": [],
   "source": [
    "jugador1 = input(\"Nombre del jugador 1\")\n",
    "print(\"El jugador 1 es\", jugador1)\n",
    "\n",
    "jugador2 = input(\"Nombre del jugador 2\")\n",
    "print(\"El jugador 2 es\", jugador2)"
   ]
  },
  {
   "cell_type": "code",
   "execution_count": null,
   "metadata": {},
   "outputs": [],
   "source": [
    "opciones = [\"piedra\", \"papel\", \"tijera\"] \n",
    "\n",
    "for opcion in opciones:\n",
    "    print(f\"elige {opcion}\")"
   ]
  },
  {
   "cell_type": "code",
   "execution_count": null,
   "metadata": {},
   "outputs": [],
   "source": [
    "eligejugador1 = random.sample(opciones, 1)\n",
    "print(f\"{jugador1} elige\", eligejugador1)\n"
   ]
  },
  {
   "cell_type": "markdown",
   "metadata": {},
   "source": [
    "**TAMARA:** ANOTO AQUÍ DEBAJO LO QUE SE ME HA OCURRIDO SIN BORRAR LO ANTERIOR PARA QUE LO VEAMOS TODO Y EL SÁBADO LIMPIAMOS EL ARCHIVO"
   ]
  },
  {
   "cell_type": "code",
   "execution_count": 21,
   "metadata": {},
   "outputs": [
    {
     "name": "stdout",
     "output_type": "stream",
     "text": [
      "Hola, Tam\n",
      "\n",
      "!Vamos allá¡\n"
     ]
    }
   ],
   "source": [
    "opciones = [\"piedra\", \"papel\", \"tijera\"]\n",
    "\n",
    "#Elimino el jugador2 porque en las indicaciones solo nos pide un jugador y la máquina\n",
    "\n",
    "# inicio del juego\n",
    "\n",
    "jugador = input(\"Nombre del jugador\")\n",
    "print(\"Hola,\", jugador)\n",
    "\n",
    "juego = input(\"¿Preparada para jugar? S/N\").upper()\n",
    "\n",
    "if  juego == \"S\":\n",
    "    print(\"\\n!Vamos allá¡\")\n",
    "\n",
    "elif  juego == \"N\":\n",
    "    print(\"\\n!Hasta pronto¡\")\n",
    "\n"
   ]
  },
  {
   "cell_type": "code",
   "execution_count": 22,
   "metadata": {},
   "outputs": [],
   "source": [
    "import random"
   ]
  },
  {
   "cell_type": "code",
   "execution_count": 23,
   "metadata": {},
   "outputs": [
    {
     "name": "stdout",
     "output_type": "stream",
     "text": [
      "Tam elige piedra\n",
      "El ordenador elige piedra\n",
      "!Empate¡ Prueba otra vez.\n",
      "\n",
      "Tam elige piedra\n",
      "El ordenador elige piedra\n",
      "!Empate¡ Prueba otra vez.\n",
      "\n",
      "Tam elige piedra\n",
      "El ordenador elige papel\n",
      "!Vaya¡ papel gana a piedra\n",
      "\n",
      "Tam elige piedra\n",
      "El ordenador elige tijera\n",
      "!Genial¡ piedra gana a tijera\n",
      "\n",
      "Tam elige papel\n",
      "El ordenador elige papel\n",
      "!Empate¡ Prueba otra vez.\n",
      "\n",
      "Tam elige papel\n",
      "El ordenador elige piedra\n",
      "!Genial¡ papel gana a piedra\n",
      "\n",
      "Tam elige tijera\n",
      "El ordenador elige tijera\n",
      "!Empate¡ Prueba otra vez.\n",
      "\n",
      "Tam elige tijera\n",
      "El ordenador elige tijera\n",
      "!Empate¡ Prueba otra vez.\n",
      "\n",
      "Tam elige \n",
      "El ordenador elige tijera\n",
      "Tam elige \n",
      "El ordenador elige papel\n",
      "Tam elige \n",
      "El ordenador elige piedra\n",
      "Tam elige \n",
      "El ordenador elige piedra\n",
      "Tam elige \n",
      "El ordenador elige papel\n",
      "Tam elige \n",
      "El ordenador elige papel\n",
      "Tam elige \n",
      "El ordenador elige piedra\n",
      "Tam elige \n",
      "El ordenador elige tijera\n",
      "Tam elige \n",
      "El ordenador elige tijera\n",
      "Tam elige \n",
      "El ordenador elige papel\n",
      "Tam elige \n",
      "El ordenador elige tijera\n",
      "Tam elige piedra\n",
      "El ordenador elige piedra\n",
      "!Empate¡ Prueba otra vez.\n",
      "\n",
      "Tam elige tijera\n",
      "El ordenador elige papel\n",
      "!Genial¡ tijera gana a papel\n",
      "\n"
     ]
    },
    {
     "ename": "KeyboardInterrupt",
     "evalue": "Interrupted by user",
     "output_type": "error",
     "traceback": [
      "\u001b[0;31m---------------------------------------------------------------------------\u001b[0m",
      "\u001b[0;31mKeyboardInterrupt\u001b[0m                         Traceback (most recent call last)",
      "\u001b[0;32m/tmp/ipykernel_21716/270012421.py\u001b[0m in \u001b[0;36m<module>\u001b[0;34m\u001b[0m\n\u001b[1;32m      3\u001b[0m \u001b[0;32mwhile\u001b[0m \u001b[0;34m(\u001b[0m\u001b[0;32mTrue\u001b[0m\u001b[0;34m)\u001b[0m\u001b[0;34m:\u001b[0m\u001b[0;34m\u001b[0m\u001b[0;34m\u001b[0m\u001b[0m\n\u001b[1;32m      4\u001b[0m \u001b[0;34m\u001b[0m\u001b[0m\n\u001b[0;32m----> 5\u001b[0;31m     \u001b[0meligejugador\u001b[0m \u001b[0;34m=\u001b[0m \u001b[0minput\u001b[0m\u001b[0;34m(\u001b[0m\u001b[0;34m\"Elige piedra, papel o tijeras.\"\u001b[0m\u001b[0;34m)\u001b[0m\u001b[0;34m\u001b[0m\u001b[0;34m\u001b[0m\u001b[0m\n\u001b[0m\u001b[1;32m      6\u001b[0m     \u001b[0mprint\u001b[0m\u001b[0;34m(\u001b[0m\u001b[0mjugador\u001b[0m\u001b[0;34m,\u001b[0m \u001b[0;34m\"elige\"\u001b[0m\u001b[0;34m,\u001b[0m \u001b[0meligejugador\u001b[0m\u001b[0;34m)\u001b[0m\u001b[0;34m\u001b[0m\u001b[0;34m\u001b[0m\u001b[0m\n\u001b[1;32m      7\u001b[0m \u001b[0;34m\u001b[0m\u001b[0m\n",
      "\u001b[0;32m~/anaconda3/lib/python3.9/site-packages/ipykernel/kernelbase.py\u001b[0m in \u001b[0;36mraw_input\u001b[0;34m(self, prompt)\u001b[0m\n\u001b[1;32m   1004\u001b[0m                 \u001b[0;34m\"raw_input was called, but this frontend does not support input requests.\"\u001b[0m\u001b[0;34m\u001b[0m\u001b[0;34m\u001b[0m\u001b[0m\n\u001b[1;32m   1005\u001b[0m             )\n\u001b[0;32m-> 1006\u001b[0;31m         return self._input_request(\n\u001b[0m\u001b[1;32m   1007\u001b[0m             \u001b[0mstr\u001b[0m\u001b[0;34m(\u001b[0m\u001b[0mprompt\u001b[0m\u001b[0;34m)\u001b[0m\u001b[0;34m,\u001b[0m\u001b[0;34m\u001b[0m\u001b[0;34m\u001b[0m\u001b[0m\n\u001b[1;32m   1008\u001b[0m             \u001b[0mself\u001b[0m\u001b[0;34m.\u001b[0m\u001b[0m_parent_ident\u001b[0m\u001b[0;34m[\u001b[0m\u001b[0;34m\"shell\"\u001b[0m\u001b[0;34m]\u001b[0m\u001b[0;34m,\u001b[0m\u001b[0;34m\u001b[0m\u001b[0;34m\u001b[0m\u001b[0m\n",
      "\u001b[0;32m~/anaconda3/lib/python3.9/site-packages/ipykernel/kernelbase.py\u001b[0m in \u001b[0;36m_input_request\u001b[0;34m(self, prompt, ident, parent, password)\u001b[0m\n\u001b[1;32m   1049\u001b[0m             \u001b[0;32mexcept\u001b[0m \u001b[0mKeyboardInterrupt\u001b[0m\u001b[0;34m:\u001b[0m\u001b[0;34m\u001b[0m\u001b[0;34m\u001b[0m\u001b[0m\n\u001b[1;32m   1050\u001b[0m                 \u001b[0;31m# re-raise KeyboardInterrupt, to truncate traceback\u001b[0m\u001b[0;34m\u001b[0m\u001b[0;34m\u001b[0m\u001b[0m\n\u001b[0;32m-> 1051\u001b[0;31m                 \u001b[0;32mraise\u001b[0m \u001b[0mKeyboardInterrupt\u001b[0m\u001b[0;34m(\u001b[0m\u001b[0;34m\"Interrupted by user\"\u001b[0m\u001b[0;34m)\u001b[0m \u001b[0;32mfrom\u001b[0m \u001b[0;32mNone\u001b[0m\u001b[0;34m\u001b[0m\u001b[0;34m\u001b[0m\u001b[0m\n\u001b[0m\u001b[1;32m   1052\u001b[0m             \u001b[0;32mexcept\u001b[0m \u001b[0mException\u001b[0m\u001b[0;34m:\u001b[0m\u001b[0;34m\u001b[0m\u001b[0;34m\u001b[0m\u001b[0m\n\u001b[1;32m   1053\u001b[0m                 \u001b[0mself\u001b[0m\u001b[0;34m.\u001b[0m\u001b[0mlog\u001b[0m\u001b[0;34m.\u001b[0m\u001b[0mwarning\u001b[0m\u001b[0;34m(\u001b[0m\u001b[0;34m\"Invalid Message:\"\u001b[0m\u001b[0;34m,\u001b[0m \u001b[0mexc_info\u001b[0m\u001b[0;34m=\u001b[0m\u001b[0;32mTrue\u001b[0m\u001b[0;34m)\u001b[0m\u001b[0;34m\u001b[0m\u001b[0;34m\u001b[0m\u001b[0m\n",
      "\u001b[0;31mKeyboardInterrupt\u001b[0m: Interrupted by user"
     ]
    }
   ],
   "source": [
    "while (True):\n",
    "\n",
    "    eligejugador = input(\"Elige piedra, papel o tijeras.\")\n",
    "    print(jugador, \"elige\", eligejugador)\n",
    "        \n",
    "    ordenador = random.sample(opciones, 1)[0]\n",
    "    print(f\"El ordenador elige\", ordenador)\n",
    "    \n",
    "    if eligejugador == ordenador:\n",
    "        print(\"!Empate¡ Prueba otra vez.\\n\")\n",
    "\n",
    "    if eligejugador == \"piedra\" and ordenador == \"tijera\":\n",
    "        print(f\"!Genial¡ {eligejugador} gana a {ordenador}\\n\")\n",
    "\n",
    "    if eligejugador == \"tijera\" and ordenador == \"papel\":\n",
    "        print(f\"!Genial¡ {eligejugador} gana a {ordenador}\\n\")\n",
    "\n",
    "    if eligejugador == \"papel\" and ordenador == \"piedra\":\n",
    "        print(f\"!Genial¡ {eligejugador} gana a {ordenador}\\n\")\n",
    "\n",
    "    if eligejugador == \"papel\" and ordenador == \"tijera\":\n",
    "        print(f\"!Vaya¡ {ordenador} gana a {eligejugador}\\n\")\n",
    "\n",
    "    if eligejugador == \"piedra\" and ordenador == \"papel\":\n",
    "        print(f\"!Vaya¡ {ordenador} gana a {eligejugador}\\n\")\n",
    "\n",
    "    if eligejugador == \"tijera\" and ordenador == \"piedra\":\n",
    "        print(f\"!Vaya¡ {ordenador} gana a {eligejugador}\\n\")\n",
    "\n"
   ]
  },
  {
   "cell_type": "code",
   "execution_count": 24,
   "metadata": {},
   "outputs": [
    {
     "name": "stdout",
     "output_type": "stream",
     "text": [
      "La puntuación es 0\n",
      "\n",
      "La puntuación es 1\n",
      "\n",
      "La puntuación es 2\n",
      "\n",
      "!Enhorabuena¡ Has ganado.\n",
      "La puntuación es 3\n",
      "\n"
     ]
    }
   ],
   "source": [
    "puntuacion = 0\n",
    "\n",
    "while puntuacion <= 3:\n",
    "    print(f\"La puntuación es {puntuacion}\\n\")\n",
    "    puntuacion += 1\n",
    "\n",
    "    if puntuacion == 3:\n",
    "        print(\"!Enhorabuena¡ Has ganado.\")"
   ]
  },
  {
   "cell_type": "code",
   "execution_count": null,
   "metadata": {},
   "outputs": [],
   "source": [
    "# final del juego\n",
    "\n",
    "otravez = input(\"¿Quieres jugar otra vez? S/N\").upper()\n",
    "\n",
    "if  otravez == \"S\":\n",
    "    print(\"\\n!Vamos allá¡\")\n",
    "\n",
    "elif  otravez == \"N\":\n",
    "    print(\"\\n!Hasta pronto¡\")"
   ]
  }
 ],
 "metadata": {
  "kernelspec": {
   "display_name": "base",
   "language": "python",
   "name": "python3"
  },
  "language_info": {
   "codemirror_mode": {
    "name": "ipython",
    "version": 3
   },
   "file_extension": ".py",
   "mimetype": "text/x-python",
   "name": "python",
   "nbconvert_exporter": "python",
   "pygments_lexer": "ipython3",
   "version": "3.9.7"
  }
 },
 "nbformat": 4,
 "nbformat_minor": 2
}
