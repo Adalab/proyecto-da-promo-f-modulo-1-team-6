{
 "cells": [
  {
   "cell_type": "markdown",
   "metadata": {},
   "source": [
    "# PIEDRA, PAPEL Y TIJERA\n",
    "----\n",
    "\n",
    "- Reglas del Juego \"Piedra, Papel y Tijera\":\n",
    "\n",
    "    - Dos jugadores eligen una de las tres opciones: \"Piedra\", \"Papel\" o \"Tijera\".\n",
    "\n",
    "    - Las reglas para determinar al ganador son:\n",
    "        \n",
    "        - Piedra vence a Tijera.\n",
    "\n",
    "        - Tijera vence a Papel.\n",
    "\n",
    "        - Papel vence a Piedra.\n",
    "\n",
    "        - El jugador que gana una ronda obtiene un punto.\n",
    "        \n",
    "        - El juego continúa hasta que un jugador haya acumulado 3 puntos, convirtiéndose en el ganador.\n",
    "\n",
    "\n",
    "- Pistas para las alumnas:\n",
    "\n",
    "    1. Comienza por definir el número de puntos objetivo que se deben alcanzar para ganar el juego.\n",
    "\n",
    "    2. Implementa una función que obtenga la elección del jugador y valide que sea una de las opciones válidas (\"Piedra\", \"Papel\" o \"Tijera\").\n",
    "\n",
    "    3. Utiliza un bucle `while` para llevar un registro de los puntos de cada jugador y continuar el juego hasta que se alcance el número de puntos objetivo.\n",
    "\n",
    "    4. Genera una elección aleatoria para el segundo jugador (la computadora) utilizando el módulo `random`.\n",
    "\n",
    "    5. Determina al ganador de cada ronda y actualiza los puntos correspondientes.\n",
    "\n",
    "    6. Verifica si algún jugador ha alcanzado el número de puntos objetivo y finalicen el juego cuando eso suceda."
   ]
  },
  {
   "cell_type": "markdown",
   "metadata": {},
   "source": [
    "__________"
   ]
  },
  {
   "cell_type": "markdown",
   "metadata": {},
   "source": [
    "## EXPLICACIÓN JUEGO"
   ]
  },
  {
   "cell_type": "markdown",
   "metadata": {},
   "source": [
    "CÓDIGO DEFINITIVO"
   ]
  },
  {
   "cell_type": "code",
   "execution_count": 13,
   "metadata": {},
   "outputs": [
    {
     "name": "stdout",
     "output_type": "stream",
     "text": [
      "Hola, Tam\n"
     ]
    }
   ],
   "source": [
    "\n",
    "## PRESENTACIÓN\n",
    "\n",
    "jugador = input(\"Nombre del jugador\")\n",
    "print(\"Hola,\", jugador, \"Vamos a jugar a piedra, papel o tijera. Ganará el primero en conseguir 3 puntos.\")\n",
    "\n",
    "juego = input(\"¿Preparade para jugar? S/N\").upper()\n",
    "\n",
    "# En este primer bucle se dan las opciones para iniciar, repetir y terminar el juego.\n",
    "\n",
    "while juego == \"S\" :\n",
    "\n",
    "    if  juego == \"S\":\n",
    "        print(\"¡Vamos allá!\\n\")\n",
    "\n",
    "    elif  juego == \"N\":\n",
    "        print(\"¡Hasta pronto!\\n\")\n",
    "\n",
    "    ## JUEGO\n",
    "\n",
    "    opciones = [\"piedra\", \"papel\", \"tijera\"]\n",
    "\n",
    "    import random\n",
    "\n",
    "    puntuacionjugador = 0\n",
    "    puntuacionordenador = 0\n",
    "\n",
    "    # Con la librería random nos aseguramos de que el ordenador elija de manera aleatoria una de las opciones.\n",
    "    # Hemos decidido escribir las opciones como strings porque nos parecía más intuitivo.\n",
    "\n",
    "    # Introducimos aquí el segundo bucle con los puntos objetivo y el desarrollo del juego en sí.\n",
    "\n",
    "    while puntuacionjugador <3 and puntuacionordenador <3:\n",
    "\n",
    "        eligejugador = input(\"Elige piedra, papel o tijera.\")\n",
    "        print(jugador, \"elige\", eligejugador)\n",
    "            \n",
    "        ordenador = random.sample(opciones, 1)[0]\n",
    "        print(\"El ordenador elige\", ordenador)\n",
    "        \n",
    "        # Después de pedir una sola muestra aleatoria de las opciones, ponemos [0] para que la máquina NO nos devuelva una lista.\n",
    "        # Aquí tenemos todas las combinaciones posibles del juego y el registro de puntos.\n",
    "\n",
    "        if eligejugador == ordenador:\n",
    "            print(\"¡Empate! Prueba otra vez.\\n\")\n",
    "            \n",
    "            # Incluimos las opciones de ganar, perder o empatar\n",
    "            # La puntuación se consigue en cada una (+=1) y se suma a la puntuación inicial (0)\n",
    "\n",
    "        if eligejugador == \"piedra\" and ordenador == \"tijera\" :\n",
    "            print(f\"¡Genial! {eligejugador} gana a {ordenador}\")\n",
    "            puntuacionjugador += 1\n",
    "            print(f\"Has ganado 1 punto, {jugador} tienes {puntuacionjugador} puntos!\\n\")\n",
    "\n",
    "        if eligejugador == \"tijera\" and ordenador == \"papel\" :\n",
    "            print(f\"¡Genial! {eligejugador} gana a {ordenador}\")\n",
    "            puntuacionjugador += 1\n",
    "            print(f\"Has ganado 1 punto, {jugador} tienes {puntuacionjugador} puntos!\\n\")\n",
    "\n",
    "        if eligejugador == \"papel\" and ordenador == \"piedra\" :\n",
    "            print(f\"¡Genial! {eligejugador} gana a {ordenador}\")\n",
    "            puntuacionjugador += 1  \n",
    "            print(f\"Has ganado 1 punto, {jugador} tienes {puntuacionjugador} puntos!\\n\")\n",
    "\n",
    "        if eligejugador == \"papel\" and ordenador == \"tijera\" :\n",
    "            print(f\"¡Vaya! {ordenador} gana a {eligejugador}\")\n",
    "            puntuacionordenador +=1\n",
    "            print(f\"Ordenador tiene {puntuacionordenador} puntos!\\n\")\n",
    "\n",
    "        if eligejugador == \"piedra\" and ordenador == \"papel\" :\n",
    "            print(f\"¡Vaya! {ordenador} gana a {eligejugador}\")\n",
    "            puntuacionordenador +=1\n",
    "            print(f\"Ordenador tiene {puntuacionordenador} puntos!\\n\")\n",
    "\n",
    "        if eligejugador == \"tijera\" and ordenador == \"piedra\" :\n",
    "            print(f\"¡Vaya! {ordenador} gana a {eligejugador}\")\n",
    "            puntuacionordenador +=1\n",
    "            print(f\"Ordenador tiene {puntuacionordenador} puntos!\\n\")\n",
    "\n",
    "# La ronda termina cuando uno de los participantes consigue 3 puntos \n",
    "    if puntuacionjugador == 3:\n",
    "        print(f\"¡Enhorabuena!, {jugador}, has ganado.\")\n",
    "        juego = input(\"¿Quieres jugar otra vez? S/N\").upper()\n",
    "      \n",
    "\n",
    "    elif puntuacionordenador ==3:\n",
    "        print(f\"Lo siento, {jugador}, has perdido :(.\") \n",
    "        juego = input(\"¿Quieres jugar otra vez? S/N\").upper()\n",
    "\n",
    "# y podemos volver a jugar siempre que queramos desde el primer bucle\n",
    "        \n"
   ]
  }
 ],
 "metadata": {
  "kernelspec": {
   "display_name": "base",
   "language": "python",
   "name": "python3"
  },
  "language_info": {
   "codemirror_mode": {
    "name": "ipython",
    "version": 3
   },
   "file_extension": ".py",
   "mimetype": "text/x-python",
   "name": "python",
   "nbconvert_exporter": "python",
   "pygments_lexer": "ipython3",
   "version": "3.9.7"
  }
 },
 "nbformat": 4,
 "nbformat_minor": 2
}
