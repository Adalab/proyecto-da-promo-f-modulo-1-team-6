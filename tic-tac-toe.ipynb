{
 "cells": [
  {
   "cell_type": "markdown",
   "metadata": {},
   "source": [
    "# TIC TAC TOE\n",
    "\n",
    "-----\n",
    "\n",
    "- Reglas del Juego \"Tic-Tac-Toe\":\n",
    "\n",
    "    - El juego se juega en un tablero de 3x3.\n",
    "\n",
    "    - Dos jugadores, uno representa \"X\" y el otro \"O\", alternan turnos.\n",
    "\n",
    "    - El objetivo es obtener tres símbolos del mismo tipo en línea horizontal, vertical o diagonal.\n",
    "\n",
    "    - El juego termina cuando un jugador gana o el tablero se llena (empate).\n",
    "\n",
    "    - El jugador que logre colocar tres de sus símbolos en línea es el ganador.\n",
    "\n",
    "\n",
    "- Pistas para las alumnas:\n",
    "\n",
    "    1. Comienza creando una representación del tablero de juego utilizando una lista de listas para mantener un seguimiento de las jugadas.\n",
    "\n",
    "    2. Implementa una función para imprimir el tablero en la pantalla en un formato claro y legible.\n",
    "\n",
    "    3. Utiliza un bucle `while` para alternar los turnos de los jugadores y recopilar sus movimientos.\n",
    "\n",
    "    4. Verifica después de cada movimiento si hay un ganador o si el juego termina en empate.\n",
    "\n",
    "    5. Implementa una función que verifique si un jugador ha ganado alineando tres símbolos en fila, columna o diagonal.\n",
    "\n",
    "    6. Asegurate de validar que una casilla seleccionada por un jugador no esté ocupada antes de permitir el movimiento.\n",
    "    \n",
    "\n",
    "------"
   ]
  },
  {
   "cell_type": "code",
   "execution_count": null,
   "metadata": {},
   "outputs": [],
   "source": [
    "## INICIO DEL JUEGO\n",
    "\n",
    "tablero = {'1' : ' ', '2' : ' ', '3' : ' ',\n",
    "         '4' : ' ', '5' : ' ', '6' : ' ',\n",
    "         '7' : ' ', '8' : ' ', '9' : ' '}\n",
    "\n",
    "def tablerovacio(tablero):\n",
    "    print(tablero[1] + '|' + tablero[2] + '|' + tablero[3])\n",
    "    print('-----')\n",
    "    print(tablero[4] + '|' + tablero[5] + '|' + tablero[6])\n",
    "    print('-----')\n",
    "    print(tablero[7] + '|' + tablero[8] + '|' + tablero[9])\n",
    "    print(\"\\n\")\n",
    "\n",
    "    return tablerovacio(tablero)\n",
    "\n",
    "\n",
    "posiciones = list(tablero.values())\n",
    "print(len(list(posiciones)))\n",
    "\n",
    "huecos = list(tablero.keys())\n",
    "print(len(list(huecos)))\n",
    "\n",
    "jugar = input('Elige posición para colocar tu ficha')\n",
    "\n",
    "def jugadas():\n",
    "    jugador1 = input('Bienvenide, Jugador 1, ¿cuál es tu nombre?')\n",
    "    print(f'\"Hola, {jugador1}, Vamos a jugar un tic tac toe, tu ficha es X.')\n",
    "    print(jugar)\n",
    "    jugador2 = input('Bienvenide, Jugador 2, ¿cuál es tu nombre?')\n",
    "    print(f'\"Hola, {jugador2}, Vamos a jugar un tic tac toe, tu ficha es O.')\n",
    "    print(jugar)\n",
    "    \n",
    "\n"
   ]
  },
  {
   "cell_type": "code",
   "execution_count": 54,
   "metadata": {},
   "outputs": [
    {
     "name": "stdout",
     "output_type": "stream",
     "text": [
      "9\n",
      "9\n"
     ]
    }
   ],
   "source": [
    "posiciones = list(tablero.values())\n",
    "print(len(list(posiciones)))\n",
    "\n",
    "huecos = list(tablero.keys())\n",
    "print(len(list(huecos)))\n",
    "\n",
    "\n",
    "for i in posiciones:\n",
    "    if "
   ]
  },
  {
   "cell_type": "code",
   "execution_count": null,
   "metadata": {},
   "outputs": [],
   "source": [
    "tablero = {1: ' ', 2: ' ', 3: ' ',\n",
    "         4: ' ', 5: ' ', 6: ' ',\n",
    "         7: ' ', 8: ' ', 9: ' '}\n",
    "\n",
    "jugador1 = 'X'\n",
    "jugador2 = 'O'\n",
    "\n",
    "def tablerovacio(tablero):\n",
    "    print(tablero[1] + '|' + tablero[2] + '|' + tablero[3])\n",
    "    print('-----')\n",
    "    print(tablero[4] + '|' + tablero[5] + '|' + tablero[6])\n",
    "    print('-----')\n",
    "    print(tablero[7] + '|' + tablero[8] + '|' + tablero[9])\n",
    "    print(\"\\n\")\n",
    "\n",
    "    return tablerovacio(tablero)\n",
    "\n",
    "\n",
    "jugada1 = tablerovacio(tablero)[int(input('Jugador 1, elige posición'))] =[jugador1][0]\n",
    "print(tablero)\n",
    "jugada2 = tablerovacio(tablero)[int(input('Jugador 2, elige posición'))] =[jugador2][0]\n",
    "print(tablero)"
   ]
  },
  {
   "cell_type": "code",
   "execution_count": null,
   "metadata": {},
   "outputs": [],
   "source": [
    "# se gana cuando se hace una combinación de tres en raya, hay siete combis, o cuando se completa el tablero ¿ con != '_' ?\n",
    "\n",
    "combinaciones\n",
    "\n"
   ]
  },
  {
   "cell_type": "code",
   "execution_count": 28,
   "metadata": {},
   "outputs": [
    {
     "name": "stdout",
     "output_type": "stream",
     "text": [
      " 1 , 1\n",
      "[None, None, None, None, None, None, None, None, None]\n"
     ]
    }
   ],
   "source": [
    "#prueba\n",
    "\n",
    "\n",
    "jugador1 = 'X'\n",
    "jugador2 = 'O'\n",
    "\n",
    "tablero = ['1', '2', '3', '4', '5', '6', '7', '8', '9']\n",
    "\n",
    "posiciones = [pos for pos in tablero if colocar_ficha]\n",
    "posiciones\n",
    "\n",
    "\n",
    "# ESTO FUNCIONA\n",
    "\n",
    "\n",
    "fila = input(f'¿En qué fila quieres colocar tu ficha?: ')\n",
    "colum = input(f'¿En qué columna quieres colocar tu ficha?: ')\n",
    "\n",
    "\n",
    "def colocar_ficha (*args):\n",
    "    posicion = ''\n",
    "    espacio = ' '\n",
    "    ficha = fila + colum\n",
    "\n",
    "    for palabra in args:\n",
    "        posicion = posicion + espacio + palabra\n",
    "\n",
    "    for colocar_ficha in tablero:\n",
    "        tablero[0] = colocar_ficha\n",
    "        \n",
    "    return posicion\n",
    "\n",
    "print(colocar_ficha (fila,',', colum))\n",
    "\n",
    "\n",
    "colocada = [colocada.append(colocar_ficha) for colocar_ficha in tablero]\n",
    "print(colocada)\n",
    "\n",
    "polizas@mutua.es\n"
   ]
  },
  {
   "cell_type": "code",
   "execution_count": 13,
   "metadata": {},
   "outputs": [
    {
     "name": "stdout",
     "output_type": "stream",
     "text": [
      "1 , 2\n"
     ]
    }
   ],
   "source": [
    "# ELECCIÓN  DE POSICIÓN PARA COLOCAR LA FICHA\n",
    "\n",
    "fila = input(f'¿En qué fila quieres colocar tu ficha?: ')\n",
    "colum = input(f'¿En qué columna quieres colocar tu ficha?: ')\n",
    "\n",
    "def colocar_ficha (*args):\n",
    "    posicion = ''\n",
    "    espacio = ' '\n",
    "\n",
    "    for palabra in args:\n",
    "        posicion = posicion + espacio + palabra\n",
    "\n",
    "    return posicion.strip()\n",
    "\n",
    "print (colocar_ficha (fila,',', colum))\n"
   ]
  },
  {
   "cell_type": "code",
   "execution_count": null,
   "metadata": {},
   "outputs": [],
   "source": [
    "fila = input(f'Fila: ')\n",
    "colum = input(f'Columna: ')\n",
    "\n",
    "ficha = [fila + colum]\n",
    "\n",
    "while casillas == '_':\n",
    "    print (ficha)"
   ]
  },
  {
   "cell_type": "code",
   "execution_count": null,
   "metadata": {},
   "outputs": [],
   "source": [
    "for casilla in tablero:\n",
    "    if casilla == '_'\n",
    "    casilla.append(jugada1)\n",
    "\n",
    "    if casilla != '_'\n",
    "    print('Esta casilla está ocupada, prueba otra vez.')\n",
    "\n",
    "    "
   ]
  },
  {
   "cell_type": "code",
   "execution_count": null,
   "metadata": {},
   "outputs": [],
   "source": [
    "\n",
    "while jugar:\n",
    "    ficha()\n",
    "    fichastablero +=1\n",
    "    if fichastablero == 9:\n",
    "        jugar = False\n",
    "        "
   ]
  },
  {
   "cell_type": "code",
   "execution_count": null,
   "metadata": {},
   "outputs": [],
   "source": [
    "# para que pare el juego hay que empatar(tablero completo) o ganar, según posibiliades????\n"
   ]
  }
 ],
 "metadata": {
  "kernelspec": {
   "display_name": "base",
   "language": "python",
   "name": "python3"
  },
  "language_info": {
   "codemirror_mode": {
    "name": "ipython",
    "version": 3
   },
   "file_extension": ".py",
   "mimetype": "text/x-python",
   "name": "python",
   "nbconvert_exporter": "python",
   "pygments_lexer": "ipython3",
   "version": "3.9.7"
  }
 },
 "nbformat": 4,
 "nbformat_minor": 2
}
