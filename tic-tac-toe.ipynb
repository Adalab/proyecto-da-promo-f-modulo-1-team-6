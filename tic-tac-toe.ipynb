{
 "cells": [
  {
   "cell_type": "markdown",
   "metadata": {},
   "source": [
    "\n",
    "------"
   ]
  },
  {
   "cell_type": "code",
   "execution_count": 2,
   "metadata": {},
   "outputs": [
    {
     "ename": "KeyError",
     "evalue": "5",
     "output_type": "error",
     "traceback": [
      "\u001b[0;31m---------------------------------------------------------------------------\u001b[0m",
      "\u001b[0;31mKeyError\u001b[0m                                  Traceback (most recent call last)",
      "\u001b[0;32m/tmp/ipykernel_6210/2354355543.py\u001b[0m in \u001b[0;36m<module>\u001b[0;34m\u001b[0m\n\u001b[1;32m     20\u001b[0m \u001b[0;34m\u001b[0m\u001b[0m\n\u001b[1;32m     21\u001b[0m \u001b[0;34m\u001b[0m\u001b[0m\n\u001b[0;32m---> 22\u001b[0;31m \u001b[0mjugada1\u001b[0m \u001b[0;34m=\u001b[0m \u001b[0mtablero\u001b[0m\u001b[0;34m[\u001b[0m\u001b[0mint\u001b[0m\u001b[0;34m(\u001b[0m\u001b[0minput\u001b[0m\u001b[0;34m(\u001b[0m\u001b[0;34m'Elige posición'\u001b[0m\u001b[0;34m)\u001b[0m\u001b[0;34m)\u001b[0m\u001b[0;34m]\u001b[0m\u001b[0;34m[\u001b[0m\u001b[0;36m0\u001b[0m\u001b[0;34m]\u001b[0m\u001b[0;34m\u001b[0m\u001b[0;34m\u001b[0m\u001b[0m\n\u001b[0m\u001b[1;32m     23\u001b[0m \u001b[0mprint\u001b[0m\u001b[0;34m(\u001b[0m\u001b[0mtablero\u001b[0m\u001b[0;34m)\u001b[0m\u001b[0;34m\u001b[0m\u001b[0;34m\u001b[0m\u001b[0m\n\u001b[1;32m     24\u001b[0m \u001b[0;34m\u001b[0m\u001b[0m\n",
      "\u001b[0;31mKeyError\u001b[0m: 5"
     ]
    }
   ],
   "source": [
    "## INICIO DEL JUEGO\n",
    "\n",
    "tablero = {'1' : ' ', '2' : ' ', '3' : ' ',\n",
    "         '4' : ' ', '5' : ' ', '6' : ' ',\n",
    "         '7' : ' ', '8' : ' ', '9' : ' '}\n",
    "\n",
    "jugador1 = 'X'\n",
    "jugador2 = 'O'\n",
    "\n",
    "def tablerovacio(tablero):\n",
    "    print(tablero + '|' + tablero + '|' + tablero)\n",
    "    print('-----')\n",
    "    print(tablero + '|' + tablero + '|' + tablero)\n",
    "    print('-----')\n",
    "    print(tablero + '|' + tablero + '|' + tablero)\n",
    "    print(\"\\n\")\n",
    "\n",
    "    return tablerovacio(tablero)\n",
    "\n",
    "\n",
    "\n",
    "jugada1 = tablero[int(input('Elige posición'))][0]\n",
    "print(tablero)\n",
    "\n"
   ]
  },
  {
   "cell_type": "code",
   "execution_count": null,
   "metadata": {},
   "outputs": [],
   "source": []
  },
  {
   "cell_type": "code",
   "execution_count": 3,
   "metadata": {},
   "outputs": [
    {
     "name": "stdout",
     "output_type": "stream",
     "text": [
      "\n"
     ]
    },
    {
     "ename": "NameError",
     "evalue": "name 'colocada' is not defined",
     "output_type": "error",
     "traceback": [
      "\u001b[0;31m---------------------------------------------------------------------------\u001b[0m",
      "\u001b[0;31mNameError\u001b[0m                                 Traceback (most recent call last)",
      "\u001b[0;32m/tmp/ipykernel_235/1193205020.py\u001b[0m in \u001b[0;36m<module>\u001b[0;34m\u001b[0m\n\u001b[1;32m     26\u001b[0m \u001b[0;34m\u001b[0m\u001b[0m\n\u001b[1;32m     27\u001b[0m \u001b[0;34m\u001b[0m\u001b[0m\n\u001b[0;32m---> 28\u001b[0;31m \u001b[0mcolocada\u001b[0m \u001b[0;34m=\u001b[0m \u001b[0;34m[\u001b[0m\u001b[0mcolocada\u001b[0m\u001b[0;34m.\u001b[0m\u001b[0mappend\u001b[0m\u001b[0;34m(\u001b[0m\u001b[0mcolocar_ficha\u001b[0m\u001b[0;34m)\u001b[0m \u001b[0;32mfor\u001b[0m \u001b[0mcolocar_ficha\u001b[0m \u001b[0;32min\u001b[0m \u001b[0mtablero\u001b[0m\u001b[0;34m]\u001b[0m\u001b[0;34m\u001b[0m\u001b[0;34m\u001b[0m\u001b[0m\n\u001b[0m\u001b[1;32m     29\u001b[0m \u001b[0mprint\u001b[0m\u001b[0;34m(\u001b[0m\u001b[0mcolocada\u001b[0m\u001b[0;34m)\u001b[0m\u001b[0;34m\u001b[0m\u001b[0;34m\u001b[0m\u001b[0m\n",
      "\u001b[0;32m/tmp/ipykernel_235/1193205020.py\u001b[0m in \u001b[0;36m<listcomp>\u001b[0;34m(.0)\u001b[0m\n\u001b[1;32m     26\u001b[0m \u001b[0;34m\u001b[0m\u001b[0m\n\u001b[1;32m     27\u001b[0m \u001b[0;34m\u001b[0m\u001b[0m\n\u001b[0;32m---> 28\u001b[0;31m \u001b[0mcolocada\u001b[0m \u001b[0;34m=\u001b[0m \u001b[0;34m[\u001b[0m\u001b[0mcolocada\u001b[0m\u001b[0;34m.\u001b[0m\u001b[0mappend\u001b[0m\u001b[0;34m(\u001b[0m\u001b[0mcolocar_ficha\u001b[0m\u001b[0;34m)\u001b[0m \u001b[0;32mfor\u001b[0m \u001b[0mcolocar_ficha\u001b[0m \u001b[0;32min\u001b[0m \u001b[0mtablero\u001b[0m\u001b[0;34m]\u001b[0m\u001b[0;34m\u001b[0m\u001b[0;34m\u001b[0m\u001b[0m\n\u001b[0m\u001b[1;32m     29\u001b[0m \u001b[0mprint\u001b[0m\u001b[0;34m(\u001b[0m\u001b[0mcolocada\u001b[0m\u001b[0;34m)\u001b[0m\u001b[0;34m\u001b[0m\u001b[0;34m\u001b[0m\u001b[0m\n",
      "\u001b[0;31mNameError\u001b[0m: name 'colocada' is not defined"
     ]
    }
   ],
   "source": [
    "#prueba\n",
    "\n",
    "\n",
    "jugador1 = 'X'\n",
    "jugador2 = 'O'\n",
    "\n",
    "tablero = ['1', '2', '3', '4', '5', '6', '7', '8', '9']\n",
    "\n",
    "\n",
    "# ESTO FUNCIONA\n",
    "\n",
    "def colocar_ficha (*args):\n",
    "    posicion = ''\n",
    "    espacio = ' '\n",
    "    \n",
    "\n",
    "    for palabra in args:\n",
    "        posicion = posicion + espacio + palabra\n",
    "\n",
    "    for colocar_ficha in tablero:\n",
    "        tablero[0] = colocar_ficha\n",
    "        \n",
    "    return posicion\n",
    "\n",
    "print(colocar_ficha())\n",
    "\n",
    "\n",
    "colocada = [colocada.append(colocar_ficha) for colocar_ficha in tablero]\n",
    "print(colocada)\n"
   ]
  },
  {
   "cell_type": "code",
   "execution_count": 1,
   "metadata": {},
   "outputs": [
    {
     "name": "stdout",
     "output_type": "stream",
     "text": [
      "5\n"
     ]
    }
   ],
   "source": [
    "# ELECCIÓN  DE POSICIÓN PARA COLOCAR LA FICHA\n",
    "\n",
    "def colocar_ficha (*args):\n",
    "    posicion = ''\n",
    "    espacio = ' '\n",
    "    ficha = input(f'¿En qué posición quieres colocar tu ficha?: ')\n",
    "\n",
    "    for palabra in args:\n",
    "        posicion = posicion + espacio + palabra\n",
    "\n",
    "    return posicion.strip()\n",
    "\n",
    "print (colocar_ficha (ficha))\n"
   ]
  },
  {
   "cell_type": "code",
   "execution_count": 39,
   "metadata": {},
   "outputs": [
    {
     "name": "stdout",
     "output_type": "stream",
     "text": [
      "[1, '|', 2, '|', 3]\n",
      "___________________\n",
      "[4, '|', 5, '|', 6]\n",
      "___________________\n",
      "[7, '|', 8, '|', 9]\n",
      "___________________\n",
      "[7, '|', 8, '|', 9, '5']\n"
     ]
    }
   ],
   "source": [
    "tablerox = [[1, '|', 2, '|', 3], [4, '|', 5, '|', 6], [7, '|', 8, '|', 9]]\n",
    "\n",
    "\n",
    "#SUSTITUCION DEL HUECO / NUMERO POR LA FICHA QUE TOQUE????????\n",
    "\n",
    "for tablerobien in tablerox:\n",
    "    print(tablerobien)\n",
    "    print('___________________')\n",
    "\n",
    "    tablerobien.append(colocar_ficha(ficha))\n",
    "\n",
    "print(tablerobien)"
   ]
  },
  {
   "cell_type": "code",
   "execution_count": null,
   "metadata": {},
   "outputs": [],
   "source": []
  },
  {
   "cell_type": "code",
   "execution_count": null,
   "metadata": {},
   "outputs": [],
   "source": []
  }
 ],
 "metadata": {
  "kernelspec": {
   "display_name": "base",
   "language": "python",
   "name": "python3"
  },
  "language_info": {
   "codemirror_mode": {
    "name": "ipython",
    "version": 3
   },
   "file_extension": ".py",
   "mimetype": "text/x-python",
   "name": "python",
   "nbconvert_exporter": "python",
   "pygments_lexer": "ipython3",
   "version": "3.9.7"
  }
 },
 "nbformat": 4,
 "nbformat_minor": 2
}
