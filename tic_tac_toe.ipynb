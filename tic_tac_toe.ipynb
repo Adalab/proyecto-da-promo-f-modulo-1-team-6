{
 "cells": [
  {
   "cell_type": "markdown",
   "metadata": {},
   "source": [
    "# Tic Tac Toe\n",
    "\n",
    "- Reglas del Juego \"Tic-Tac-Toe\":\n",
    "\n",
    "    - El juego se juega en un tablero de 3x3.\n",
    "\n",
    "    - Dos jugadores, uno representa \"X\" y el otro \"O\", alternan turnos.\n",
    "\n",
    "    - El objetivo es obtener tres símbolos del mismo tipo en línea horizontal, vertical o diagonal.\n",
    "\n",
    "    - El juego termina cuando un jugador gana o el tablero se llena (empate).\n",
    "\n",
    "    - El jugador que logre colocar tres de sus símbolos en línea es el ganador.\n",
    "\n",
    "\n",
    "- Pistas para las alumnas:\n",
    "\n",
    "    1. Comienza creando una representación del tablero de juego utilizando una lista de listas para mantener un seguimiento de las jugadas.\n",
    "\n",
    "    2. Implementa una función para imprimir el tablero en la pantalla en un formato claro y legible.\n",
    "\n",
    "    3. Utiliza un bucle `while` para alternar los turnos de los jugadores y recopilar sus movimientos.\n",
    "\n",
    "    4. Verifica después de cada movimiento si hay un ganador o si el juego termina en empate.\n",
    "\n",
    "    5. Implementa una función que verifique si un jugador ha ganado alineando tres símbolos en fila, columna o diagonal.\n",
    "\n",
    "    6. Asegurate de validar que una casilla seleccionada por un jugador no esté ocupada antes de permitir el movimiento."
   ]
  },
  {
   "cell_type": "code",
   "execution_count": 5,
   "metadata": {},
   "outputs": [
    {
     "ename": "TypeError",
     "evalue": "raw_input() takes from 1 to 2 positional arguments but 3 were given",
     "output_type": "error",
     "traceback": [
      "\u001b[0;31m---------------------------------------------------------------------------\u001b[0m",
      "\u001b[0;31mTypeError\u001b[0m                                 Traceback (most recent call last)",
      "\u001b[0;32m/tmp/ipykernel_1412/1682916528.py\u001b[0m in \u001b[0;36m<module>\u001b[0;34m\u001b[0m\n\u001b[1;32m      7\u001b[0m \u001b[0mficha\u001b[0m \u001b[0;34m=\u001b[0m \u001b[0;34m[\u001b[0m\u001b[0;34m\"X\"\u001b[0m\u001b[0;32mor\u001b[0m \u001b[0;34m\"O\"\u001b[0m\u001b[0;34m]\u001b[0m\u001b[0;34m\u001b[0m\u001b[0;34m\u001b[0m\u001b[0m\n\u001b[1;32m      8\u001b[0m \u001b[0;34m\u001b[0m\u001b[0m\n\u001b[0;32m----> 9\u001b[0;31m \u001b[0mficha_jugador1\u001b[0m \u001b[0;34m=\u001b[0m \u001b[0minput\u001b[0m \u001b[0;34m(\u001b[0m\u001b[0;34m\"Va a jugar con\"\u001b[0m\u001b[0;34m,\u001b[0m \u001b[0mficha\u001b[0m\u001b[0;34m)\u001b[0m\u001b[0;34m\u001b[0m\u001b[0;34m\u001b[0m\u001b[0m\n\u001b[0m\u001b[1;32m     10\u001b[0m \u001b[0;34m\u001b[0m\u001b[0m\n\u001b[1;32m     11\u001b[0m \u001b[0mficha_jugador2\u001b[0m \u001b[0;34m=\u001b[0m \u001b[0;34m(\u001b[0m\u001b[0;34m\"La ficha no seleccionado por jugador1\"\u001b[0m\u001b[0;34m,\u001b[0m \u001b[0mficha\u001b[0m\u001b[0;34m(\u001b[0m\u001b[0mreverse\u001b[0m\u001b[0;34m=\u001b[0m\u001b[0;32mTrue\u001b[0m\u001b[0;34m)\u001b[0m\u001b[0;34m)\u001b[0m\u001b[0;34m\u001b[0m\u001b[0;34m\u001b[0m\u001b[0m\n",
      "\u001b[0;31mTypeError\u001b[0m: raw_input() takes from 1 to 2 positional arguments but 3 were given"
     ]
    }
   ],
   "source": [
    "#Necesitamos un tablero (3x3), las fichas paara cada jugador y dos jugadores.\n",
    "\n",
    "\n",
    "jugador1 = input (\"nombre del jugador1\")\n",
    "jugador2 = input (\"nombre del jugador2\")\n",
    "\n",
    "\n",
    "ficha_jugador1 = input (\"Va a jugar con\", ficha)\n",
    "\n",
    "ficha_jugador2 = (\"La ficha no seleccionado por jugador1\", ficha(reverse=True))\n",
    "\n",
    "#Los movimientos deben ir del número 1 al 9  para que se puedan reflejar en el tablero.\n",
    "\n",
    "tablero_vacio= [\"_\", \"_\", \"_\",\n",
    "                \"_\", \"_\", \"_\",\n",
    "                \"_\", \"_\", \"_\"]"
   ]
  },
  {
   "cell_type": "code",
   "execution_count": 7,
   "metadata": {},
   "outputs": [
    {
     "ename": "IndentationError",
     "evalue": "expected an indented block (1144137855.py, line 5)",
     "output_type": "error",
     "traceback": [
      "\u001b[0;36m  File \u001b[0;32m\"/tmp/ipykernel_1412/1144137855.py\"\u001b[0;36m, line \u001b[0;32m5\u001b[0m\n\u001b[0;31m    \u001b[0m\n\u001b[0m    ^\u001b[0m\n\u001b[0;31mIndentationError\u001b[0m\u001b[0;31m:\u001b[0m expected an indented block\n"
     ]
    }
   ],
   "source": [
    "if tablero[0]==\"X\":\n",
    "        if tablero[1]==\"X\" and tablero[2]==\"X\":\n",
    "            return 1\n",
    "        if tablero[3]==\"X\" and tablero[6]==\"X\":\n",
    "            \n"
   ]
  },
  {
   "cell_type": "code",
   "execution_count": 5,
   "metadata": {},
   "outputs": [
    {
     "name": "stdout",
     "output_type": "stream",
     "text": [
      "['_', '_', '_', '\\n_', '_', '_', '\\n_', '_', '_']\n"
     ]
    }
   ],
   "source": [
    "tablero_vacio= [\"_\", \"_\", \"_\",\n",
    "                \"_\", \"_\", \"_\",\n",
    "                \"_\", \"_\", \"_\"]\n",
    "\n",
    "print (tablero_vacio)"
   ]
  }
 ],
 "metadata": {
  "kernelspec": {
   "display_name": "base",
   "language": "python",
   "name": "python3"
  },
  "language_info": {
   "codemirror_mode": {
    "name": "ipython",
    "version": 3
   },
   "file_extension": ".py",
   "mimetype": "text/x-python",
   "name": "python",
   "nbconvert_exporter": "python",
   "pygments_lexer": "ipython3",
   "version": "3.9.7"
  }
 },
 "nbformat": 4,
 "nbformat_minor": 2
}
