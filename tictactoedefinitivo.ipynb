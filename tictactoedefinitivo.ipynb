{
 "cells": [
  {
   "cell_type": "code",
   "execution_count": 21,
   "metadata": {},
   "outputs": [
    {
     "name": "stdout",
     "output_type": "stream",
     "text": [
      "1 | 2 | 3\n",
      "---------\n",
      "4 | 5 | 6\n",
      "---------\n",
      "7 | 8 | 9\n",
      "---------\n",
      "Turno del jugador 1 X\n"
     ]
    },
    {
     "ename": "TypeError",
     "evalue": "list indices must be integers or slices, not str",
     "output_type": "error",
     "traceback": [
      "\u001b[0;31m---------------------------------------------------------------------------\u001b[0m",
      "\u001b[0;31mTypeError\u001b[0m                                 Traceback (most recent call last)",
      "\u001b[0;32m/tmp/ipykernel_2734/4128261327.py\u001b[0m in \u001b[0;36m<module>\u001b[0;34m\u001b[0m\n\u001b[1;32m     63\u001b[0m \u001b[0;32mif\u001b[0m \u001b[0m__name__\u001b[0m \u001b[0;34m==\u001b[0m \u001b[0;34m\"__main__\"\u001b[0m\u001b[0;34m:\u001b[0m\u001b[0;34m\u001b[0m\u001b[0;34m\u001b[0m\u001b[0m\n\u001b[1;32m     64\u001b[0m     \u001b[0mtablero\u001b[0m \u001b[0;34m=\u001b[0m \u001b[0minicializar_tablero\u001b[0m\u001b[0;34m(\u001b[0m\u001b[0;34m)\u001b[0m\u001b[0;34m\u001b[0m\u001b[0;34m\u001b[0m\u001b[0m\n\u001b[0;32m---> 65\u001b[0;31m     \u001b[0mjugar\u001b[0m\u001b[0;34m(\u001b[0m\u001b[0;34m)\u001b[0m\u001b[0;34m\u001b[0m\u001b[0;34m\u001b[0m\u001b[0m\n\u001b[0m",
      "\u001b[0;32m/tmp/ipykernel_2734/4128261327.py\u001b[0m in \u001b[0;36mjugar\u001b[0;34m()\u001b[0m\n\u001b[1;32m     34\u001b[0m         \u001b[0mprint\u001b[0m\u001b[0;34m(\u001b[0m\u001b[0;34m\"Turno del jugador 1\"\u001b[0m\u001b[0;34m,\u001b[0m \u001b[0mjugador1\u001b[0m\u001b[0;34m)\u001b[0m\u001b[0;34m\u001b[0m\u001b[0;34m\u001b[0m\u001b[0m\n\u001b[1;32m     35\u001b[0m \u001b[0;34m\u001b[0m\u001b[0m\n\u001b[0;32m---> 36\u001b[0;31m         \u001b[0;32mif\u001b[0m \u001b[0mtablero\u001b[0m\u001b[0;34m[\u001b[0m\u001b[0mposiciones\u001b[0m\u001b[0;34m]\u001b[0m \u001b[0;34m==\u001b[0m \u001b[0;34m\" \"\u001b[0m\u001b[0;34m:\u001b[0m\u001b[0;34m\u001b[0m\u001b[0;34m\u001b[0m\u001b[0m\n\u001b[0m\u001b[1;32m     37\u001b[0m             \u001b[0mtablero\u001b[0m\u001b[0;34m[\u001b[0m\u001b[0mposiciones\u001b[0m\u001b[0;34m]\u001b[0m \u001b[0;34m=\u001b[0m \u001b[0mjugador1\u001b[0m\u001b[0;34m\u001b[0m\u001b[0;34m\u001b[0m\u001b[0m\n\u001b[1;32m     38\u001b[0m         \u001b[0;32melse\u001b[0m\u001b[0;34m:\u001b[0m\u001b[0;34m\u001b[0m\u001b[0;34m\u001b[0m\u001b[0m\n",
      "\u001b[0;31mTypeError\u001b[0m: list indices must be integers or slices, not str"
     ]
    }
   ],
   "source": [
    "def inicializar_tablero():\n",
    "    return [['1', '2', '3'],\n",
    "            ['4', '5', '6'],\n",
    "            ['7', '8', '9']]\n",
    "\n",
    "def imprimir_tablero(tablero):\n",
    "    for fila in tablero:\n",
    "        print(\" | \".join(fila))\n",
    "        print(\"---------\")\n",
    "\n",
    "def verificar_victoria(tablero, simbolo):\n",
    "    for i in range(3):\n",
    "        if all(tablero[i][j] == simbolo for j in range(3)):\n",
    "            return True\n",
    "\n",
    "    for j in range(3):\n",
    "        if all(tablero[i][j] == simbolo for i in range(3)):\n",
    "            return True\n",
    "\n",
    "    if all(tablero[i][i] == simbolo for i in range(3)) or all(tablero[i][2 - i] == simbolo for i in range(3)):\n",
    "        return True\n",
    "\n",
    "    return False\n",
    "\n",
    "def jugar():\n",
    "    tablero = inicializar_tablero()\n",
    "    jugador1 = \"X\"\n",
    "    jugador2 = 'O'\n",
    "\n",
    "    posiciones = input('En qué posición quieres colocar tu ficha?')\n",
    "\n",
    "    while True:\n",
    "        imprimir_tablero(tablero)\n",
    "        print(\"Turno del jugador 1\", jugador1)\n",
    "        \n",
    "        if tablero[posiciones] == \" \":\n",
    "            tablero[posiciones] = jugador1\n",
    "        else:\n",
    "            print(\"Esa casilla ya está ocupada. Intenta de nuevo.\")\n",
    "            continue\n",
    "\n",
    "        imprimir_tablero(tablero)\n",
    "        print(\"Turno del jugador 2\", jugador2)\n",
    "\n",
    "        if tablero[posiciones] == \" \":\n",
    "            tablero[posiciones] = jugador2\n",
    "        else:\n",
    "            print(\"Esa casilla ya está ocupada. Intenta de nuevo.\")\n",
    "            continue\n",
    "\n",
    "        if verificar_victoria(tablero, jugador1):\n",
    "            imprimir_tablero(tablero)\n",
    "            print(\"¡Jugador \" + jugador1 + \" ha ganado!\")\n",
    "            break\n",
    "\n",
    "        if all(tablero[i][j] != \" \" for i in range(3) for j in range(3)):\n",
    "            imprimir_tablero(tablero)\n",
    "            print(\"Es un empate.\")\n",
    "            break\n",
    "\n",
    "        jugador1 = \"O\" if jugador1 == \"X\" else \"X\"\n",
    "\n",
    "if __name__ == \"__main__\":\n",
    "    tablero = inicializar_tablero()\n",
    "    jugar()"
   ]
  },
  {
   "cell_type": "code",
   "execution_count": 25,
   "metadata": {},
   "outputs": [
    {
     "ename": "IndexError",
     "evalue": "list index out of range",
     "output_type": "error",
     "traceback": [
      "\u001b[0;31m---------------------------------------------------------------------------\u001b[0m",
      "\u001b[0;31mIndexError\u001b[0m                                Traceback (most recent call last)",
      "\u001b[0;32m/tmp/ipykernel_2734/2712145117.py\u001b[0m in \u001b[0;36m<module>\u001b[0;34m\u001b[0m\n\u001b[1;32m     16\u001b[0m         \u001b[0mprint\u001b[0m\u001b[0;34m(\u001b[0m\u001b[0;34m'Has ganado'\u001b[0m\u001b[0;34m)\u001b[0m\u001b[0;34m\u001b[0m\u001b[0;34m\u001b[0m\u001b[0m\n\u001b[1;32m     17\u001b[0m \u001b[0;34m\u001b[0m\u001b[0m\n\u001b[0;32m---> 18\u001b[0;31m     \u001b[0;32mif\u001b[0m \u001b[0mcombinaciones\u001b[0m\u001b[0;34m[\u001b[0m\u001b[0;36m7\u001b[0m\u001b[0;34m]\u001b[0m \u001b[0;34m==\u001b[0m \u001b[0mcombinaciones\u001b[0m\u001b[0;34m[\u001b[0m\u001b[0;36m8\u001b[0m\u001b[0;34m]\u001b[0m \u001b[0;34m==\u001b[0m \u001b[0mcombinaciones\u001b[0m\u001b[0;34m[\u001b[0m\u001b[0;36m9\u001b[0m\u001b[0;34m]\u001b[0m\u001b[0;34m:\u001b[0m\u001b[0;34m\u001b[0m\u001b[0;34m\u001b[0m\u001b[0m\n\u001b[0m\u001b[1;32m     19\u001b[0m         \u001b[0mcheck\u001b[0m \u001b[0;34m+=\u001b[0m\u001b[0;36m1\u001b[0m\u001b[0;34m\u001b[0m\u001b[0;34m\u001b[0m\u001b[0m\n\u001b[1;32m     20\u001b[0m         \u001b[0mprint\u001b[0m\u001b[0;34m(\u001b[0m\u001b[0;34m'Has ganado'\u001b[0m\u001b[0;34m)\u001b[0m\u001b[0;34m\u001b[0m\u001b[0;34m\u001b[0m\u001b[0m\n",
      "\u001b[0;31mIndexError\u001b[0m: list index out of range"
     ]
    }
   ],
   "source": [
    "combinaciones = [[1, 2, 3], [4, 5, 6], [7, 8, 9],  \n",
    "                [1, 4, 7], [2, 5, 8], [3, 6, 9],  \n",
    "                [1, 5, 9], [3, 5, 7]] \n",
    "                    \n",
    "\n",
    "check = 0\n",
    "\n",
    "\n",
    "for simbolo in combinaciones:\n",
    "    if combinaciones[1] == combinaciones[2] == combinaciones[3]:\n",
    "        check +=1\n",
    "        print('Has ganado')\n",
    "\n",
    "    if combinaciones[4] == combinaciones[5] == combinaciones[6]:\n",
    "        check +=1\n",
    "        print('Has ganado')\n",
    "        \n",
    "    if combinaciones[7] == combinaciones[8] == combinaciones[9]:\n",
    "        check +=1\n",
    "        print('Has ganado')\n",
    "\n",
    "    if combinaciones[1] == combinaciones[4] == combinaciones[7]:\n",
    "        check +=1\n",
    "        print('Has ganado')\n",
    "\n",
    "    if combinaciones[2] == combinaciones[5] == combinaciones[8]:\n",
    "        check +=1\n",
    "        print('Has ganado')\n",
    "\n",
    "    if combinaciones[3] == combinaciones[6] == combinaciones[9]:\n",
    "        check +=1\n",
    "        print('Has ganado')\n",
    "\n",
    "    if combinaciones[1] == combinaciones[5] == combinaciones[9]:\n",
    "        check +=1\n",
    "        print('Has ganado')\n",
    "\n",
    "    if combinaciones[3] == combinaciones[5] == combinaciones[7]:\n",
    "        check +=1\n",
    "        print('Has ganado')"
   ]
  },
  {
   "cell_type": "code",
   "execution_count": null,
   "metadata": {},
   "outputs": [],
   "source": []
  }
 ],
 "metadata": {
  "kernelspec": {
   "display_name": "base",
   "language": "python",
   "name": "python3"
  },
  "language_info": {
   "codemirror_mode": {
    "name": "ipython",
    "version": 3
   },
   "file_extension": ".py",
   "mimetype": "text/x-python",
   "name": "python",
   "nbconvert_exporter": "python",
   "pygments_lexer": "ipython3",
   "version": "3.9.7"
  }
 },
 "nbformat": 4,
 "nbformat_minor": 2
}
