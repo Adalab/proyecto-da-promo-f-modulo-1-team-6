{
 "cells": [
  {
   "cell_type": "markdown",
   "metadata": {},
   "source": [
    "# TIC TAC TOE\n",
    "\n",
    "-----\n",
    "\n",
    "- Reglas del Juego \"Tic-Tac-Toe\":\n",
    "\n",
    "    - El juego se juega en un tablero de 3x3.\n",
    "\n",
    "    - Dos jugadores, uno representa \"X\" y el otro \"O\", alternan turnos.\n",
    "\n",
    "    - El objetivo es obtener tres símbolos del mismo tipo en línea horizontal, vertical o diagonal.\n",
    "\n",
    "    - El juego termina cuando un jugador gana o el tablero se llena (empate).\n",
    "\n",
    "    - El jugador que logre colocar tres de sus símbolos en línea es el ganador.\n",
    "\n",
    "\n",
    "- Pistas para las alumnas:\n",
    "\n",
    "    1. Comienza creando una representación del tablero de juego utilizando una lista de listas para mantener un seguimiento de las jugadas.\n",
    "\n",
    "    2. Implementa una función para imprimir el tablero en la pantalla en un formato claro y legible.\n",
    "\n",
    "    3. Utiliza un bucle `while` para alternar los turnos de los jugadores y recopilar sus movimientos.\n",
    "\n",
    "    4. Verifica después de cada movimiento si hay un ganador o si el juego termina en empate.\n",
    "\n",
    "    5. Implementa una función que verifique si un jugador ha ganado alineando tres símbolos en fila, columna o diagonal.\n",
    "\n",
    "    6. Asegurate de validar que una casilla seleccionada por un jugador no esté ocupada antes de permitir el movimiento.\n",
    "    \n",
    "-----"
   ]
  },
  {
   "cell_type": "code",
   "execution_count": 1,
   "metadata": {},
   "outputs": [
    {
     "ename": "IndentationError",
     "evalue": "unexpected indent (2850525833.py, line 4)",
     "output_type": "error",
     "traceback": [
      "\u001b[0;36m  File \u001b[0;32m\"/tmp/ipykernel_10114/2850525833.py\"\u001b[0;36m, line \u001b[0;32m4\u001b[0m\n\u001b[0;31m    input('Bienvenide, Jugador 1, ¿cuál es tu nombre?')\u001b[0m\n\u001b[0m    ^\u001b[0m\n\u001b[0;31mIndentationError\u001b[0m\u001b[0;31m:\u001b[0m unexpected indent\n"
     ]
    }
   ],
   "source": [
    "## INICIO DEL JUEGO\n",
    "\n",
    "jugador1 = 'X'\n",
    "    input('Bienvenide, Jugador 1, ¿cuál es tu nombre?')\n",
    "print(f'\"Hola, {jugador1}, Vamos a jugar un tic tac toe, tu ficha es X.')\n",
    "    \n",
    "jugador2 = input('Bienvenide, Jugador 2, ¿cuál es tu nombre?')\n",
    "print(f'\"Hola, {jugador2}, Vamos a jugar un tic tac toe, tu ficha es O.')\n",
    "\n",
    "\n"
   ]
  },
  {
   "cell_type": "code",
   "execution_count": null,
   "metadata": {},
   "outputs": [],
   "source": [
    "\n",
    "ficha = input()\n",
    "\n",
    "def colocar_ficha (*args):\n",
    "    posicion = ''\n",
    "    espacio = ' '\n",
    "\n",
    "    for palabra in args:\n",
    "        posicion = posicion + espacio + palabra\n",
    "\n",
    "    for colocar_ficha in tablero:\n",
    "        if huecos >0:\n",
    "            \n",
    "            \n",
    "        tablero[0] = colocar_ficha\n",
    "        \n",
    "    return posicion\n",
    "\n",
    "print(colocar_ficha (fila,',', colum))\n",
    "\n",
    "\n",
    "colocada = [colocada.append(colocar_ficha) for colocar_ficha in tablero]\n",
    "print(colocada)"
   ]
  },
  {
   "cell_type": "code",
   "execution_count": null,
   "metadata": {},
   "outputs": [
    {
     "name": "stdout",
     "output_type": "stream",
     "text": [
      "{'1': ' ', '2': ' ', '3': ' ', '4': ' ', '5': ' ', '6': ' ', '7': ' ', '8': ' ', '9': ' ', 2: [], 'huecos': [' ', ' ', ' ', ' ', ' ', ' ', ' ', ' ', ' ']}\n"
     ]
    }
   ],
   "source": [
    "ficha = [int(input(f'{jugador1} elige posición'))]\n",
    "\n",
    "for colocar_ficha in tablero:\n",
    "        if huecos == ' ':\n",
    "                print(colocar_ficha)\n",
    "                huecos = huecos +1\n",
    "                huecos.append(jugador1)\n",
    "                print(ficha)\n",
    "\n",
    "tablero['huecos'] = huecos\n",
    "\n",
    "print(tablero)\n"
   ]
  },
  {
   "cell_type": "code",
   "execution_count": null,
   "metadata": {},
   "outputs": [
    {
     "name": "stdout",
     "output_type": "stream",
     "text": [
      "False\n"
     ]
    }
   ],
   "source": [
    "# ELECCIÓN  DE POSICIÓN PARA COLOCAR LA FICHA\n",
    "huecos \n",
    "\n",
    "\n",
    "def colocar_ficha (*args):\n",
    "    posicion = ''\n",
    "    espacio = ' '\n",
    "\n",
    "    for palabra in args:\n",
    "        posicion = posicion + espacio + palabra\n",
    "\n",
    "    return posicion.strip()\n",
    "\n",
    "print(huecos[0] == colocar_ficha())"
   ]
  },
  {
   "cell_type": "code",
   "execution_count": null,
   "metadata": {},
   "outputs": [
    {
     "data": {
      "text/plain": [
       "[' ', ' ', ' ', ' ', ' ', ' ', ' ', ' ', ' ']"
      ]
     },
     "execution_count": 24,
     "metadata": {},
     "output_type": "execute_result"
    }
   ],
   "source": [
    "huecos"
   ]
  },
  {
   "cell_type": "code",
   "execution_count": null,
   "metadata": {},
   "outputs": [
    {
     "name": "stdout",
     "output_type": "stream",
     "text": [
      "False\n"
     ]
    }
   ],
   "source": [
    "huecos \n",
    "\n",
    "def poner_fichas(huecos):\n",
    "    contador = 9\n",
    "\n",
    "    for i in huecos:\n",
    "        if contador == i:\n",
    "            contador -= 1\n",
    "        else:\n",
    "            break\n",
    "\n",
    "    return huecos\n",
    "print(huecos[0] == poner_fichas(huecos))\n",
    "\n"
   ]
  },
  {
   "cell_type": "code",
   "execution_count": null,
   "metadata": {},
   "outputs": [
    {
     "data": {
      "text/plain": [
       "[' ', ' ', ' ', ' ', ' ', ' ', ' ', ' ', ' ']"
      ]
     },
     "execution_count": 31,
     "metadata": {},
     "output_type": "execute_result"
    }
   ],
   "source": [
    "huecos\n",
    "\n",
    "def poner_fichas2 "
   ]
  },
  {
   "cell_type": "code",
   "execution_count": null,
   "metadata": {},
   "outputs": [
    {
     "ename": "SyntaxError",
     "evalue": "invalid syntax (2605179342.py, line 1)",
     "output_type": "error",
     "traceback": [
      "\u001b[0;36m  File \u001b[0;32m\"/tmp/ipykernel_2560/2605179342.py\"\u001b[0;36m, line \u001b[0;32m1\u001b[0m\n\u001b[0;31m    ponerfichas = [jugador1, jugador2 for hueco in huecos if huecos == ' '**9]\u001b[0m\n\u001b[0m                                      ^\u001b[0m\n\u001b[0;31mSyntaxError\u001b[0m\u001b[0;31m:\u001b[0m invalid syntax\n"
     ]
    }
   ],
   "source": [
    "ponerfichas = [jugador1, jugador2 for hueco in huecos if huecos == ' '**9]"
   ]
  },
  {
   "cell_type": "code",
   "execution_count": null,
   "metadata": {},
   "outputs": [
    {
     "name": "stdout",
     "output_type": "stream",
     "text": [
      "[' ', ' ', ' ', ' ', ' ', ' ', ' ', ' ', ' ']\n",
      "hay 9 huecos\n"
     ]
    }
   ],
   "source": [
    "jugador1 = 'X'\n",
    "jugador2 = 'O'\n",
    "\n",
    "tablero = {'1' : ' ', '2' : ' ', '3' : ' ',\n",
    "         '4' : ' ', '5' : ' ', '6' : ' ',\n",
    "         '7' : ' ', '8' : ' ', '9' : ' '}\n",
    "\n",
    "huecos = list(tablero.values())\n",
    "print((list(huecos)))\n",
    "print(f'hay {len(list(huecos))} huecos')\n",
    "\n",
    "jugar = tablero[int(input(f' {jugador1} elige posición'))] = []\n",
    "\n"
   ]
  },
  {
   "cell_type": "code",
   "execution_count": 2,
   "metadata": {},
   "outputs": [
    {
     "ename": "SyntaxError",
     "evalue": "invalid syntax (401849219.py, line 7)",
     "output_type": "error",
     "traceback": [
      "\u001b[0;36m  File \u001b[0;32m\"/tmp/ipykernel_10114/401849219.py\"\u001b[0;36m, line \u001b[0;32m7\u001b[0m\n\u001b[0;31m    if i = combinaciones\u001b[0m\n\u001b[0m         ^\u001b[0m\n\u001b[0;31mSyntaxError\u001b[0m\u001b[0;31m:\u001b[0m invalid syntax\n"
     ]
    }
   ],
   "source": [
    "def verificar_victoria(tablero, simbolo):\n",
    "    combinaciones = [[1, 2, 3], [4, 5, 6], [7, 8, 9],  \n",
    "                    [1, 4, 7], [2, 5, 8], [3, 6, 9],  \n",
    "                    [1, 5, 9], [3, 5, 7]] \n",
    "\n",
    "    for i in combinaciones:\n",
    "        if i = combinaciones \n",
    "        print('Has ganado')\n",
    "        return True\n",
    "    \n",
    "    return False"
   ]
  },
  {
   "cell_type": "code",
   "execution_count": null,
   "metadata": {},
   "outputs": [],
   "source": [
    "combinaciones = [[1, 2, 3], [4, 5, 6], [7, 8, 9],  \n",
    "                [1, 4, 7], [2, 5, 8], [3, 6, 9],  \n",
    "                [1, 5, 9], [3, 5, 7]] \n",
    "                    \n",
    "for combi in combinaciones:\n",
    "    if combinaciones[1] == combinaciones[2] == combinaciones[3]:\n",
    "        print('Has ganado')\n",
    "\n",
    "    if combinaciones[4] == combinaciones[5] == combinaciones[6]:\n",
    "        print('Has ganado')\n",
    "\n",
    "    if combinaciones[7] == combinaciones[8] == combinaciones[9]:\n",
    "        print('Has ganado')\n",
    "\n",
    "    if combinaciones[1] == combinaciones[4] == combinaciones[7]:\n",
    "        print('Has ganado')\n",
    "\n",
    "    if combinaciones[2] == combinaciones[5] == combinaciones[8]:\n",
    "        print('Has ganado')\n",
    "\n",
    "    if combinaciones[3] == combinaciones[6] == combinaciones[9]:\n",
    "        print('Has ganado')\n",
    "\n",
    "    if combinaciones[1] == combinaciones[5] == combinaciones[9]:\n",
    "        print('Has ganado')\n",
    "\n",
    "    if combinaciones[3] == combinaciones[5] == combinaciones[7]:\n",
    "        print('Has ganado')"
   ]
  }
 ],
 "metadata": {
  "kernelspec": {
   "display_name": "base",
   "language": "python",
   "name": "python3"
  },
  "language_info": {
   "codemirror_mode": {
    "name": "ipython",
    "version": 3
   },
   "file_extension": ".py",
   "mimetype": "text/x-python",
   "name": "python",
   "nbconvert_exporter": "python",
   "pygments_lexer": "ipython3",
   "version": "3.9.7"
  }
 },
 "nbformat": 4,
 "nbformat_minor": 2
}
