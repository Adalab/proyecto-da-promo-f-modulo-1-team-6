{
 "cells": [
  {
   "cell_type": "code",
   "execution_count": 3,
   "metadata": {},
   "outputs": [
    {
     "ename": "SyntaxError",
     "evalue": "invalid syntax (1053209178.py, line 14)",
     "output_type": "error",
     "traceback": [
      "\u001b[0;36m  File \u001b[0;32m\"/tmp/ipykernel_19335/1053209178.py\"\u001b[0;36m, line \u001b[0;32m14\u001b[0m\n\u001b[0;31m    tablero = [[\" \" for_in range (3)] for_in range (3)]]\u001b[0m\n\u001b[0m                    ^\u001b[0m\n\u001b[0;31mSyntaxError\u001b[0m\u001b[0;31m:\u001b[0m invalid syntax\n"
     ]
    }
   ],
   "source": [
    "def imprimri_tablero (tablero):\n",
    "    print (\"0  1  2\")\n",
    "    for i, fila in enumerate (tablero):\n",
    "        print (i, end= \" \")\n",
    "        for j, c in enumerate (fila):\n",
    "            print (f\" {c} \", end=\"\")\n",
    "            if j < 2:\n",
    "                print (\"|\", end = \"\")\n",
    "        print()\n",
    "        if i < 2:\n",
    "            print (\" \" + \"  \" * 9)\n",
    "            \n",
    "def juego_tic_tac_toe ():\n",
    "    tablero = [[\" \" for_in range (3)]] for_in range (3)]\n",
    "    jugadas = 0\n",
    "    \n",
    "    \n",
    "    while True:\n",
    "        jugador_actual = \"x\" if jugadas % 2 == 0 else \"0\"\n",
    "        imprimir_tablero (tablero)\n",
    "        fila = int (input (f\"Jugador\" {jugador_actual})), \"elige una fila (0, 1, 2)\"))\n",
    "        columna = int (input (f\"Jugador {jugador_actual}, elige una columna (0, 1, 2)\"))\n",
    "        \n",
    "        if tablero [fila] [columna] == \" \":\n",
    "            tablero [fila] [columna] = jugador_actual\n",
    "            jugadas += 1\n",
    "            if verificar_ganador (tablero, jugador_actual):\n",
    "                imprimir_tablero (tablero)\n",
    "                print (f\"¡El jugador {jugador_actual} gana\")\n",
    "                break\n",
    "            elif jugadas == 9:\n",
    "                imprimir_tablero (tablero)\n",
    "                \n",
    "                print (\"¡Empate!\")\n",
    "                break\n",
    "        else:\n",
    "            print (\"Esa casilla ya está ocupada! Inténtalo de neuvo.\")\n",
    "        "
   ]
  }
 ],
 "metadata": {
  "kernelspec": {
   "display_name": "base",
   "language": "python",
   "name": "python3"
  },
  "language_info": {
   "codemirror_mode": {
    "name": "ipython",
    "version": 3
   },
   "file_extension": ".py",
   "mimetype": "text/x-python",
   "name": "python",
   "nbconvert_exporter": "python",
   "pygments_lexer": "ipython3",
   "version": "3.9.7"
  }
 },
 "nbformat": 4,
 "nbformat_minor": 2
}
